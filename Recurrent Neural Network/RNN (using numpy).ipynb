{
 "cells": [
  {
   "cell_type": "code",
   "execution_count": 33,
   "metadata": {},
   "outputs": [],
   "source": [
    "import numpy\n",
    "from rn import *"
   ]
  },
  {
   "cell_type": "code",
   "execution_count": 34,
   "metadata": {},
   "outputs": [],
   "source": [
    "def rnn_cell_forward(xt, a_prev, parameters):\n",
    "    \n",
    "    Wax = parameters[\"Wax\"]\n",
    "    Waa = parameters[\"Waa\"]\n",
    "    Wya = parameters[\"Wya\"]\n",
    "    ba = parameters[\"ba\"]\n",
    "    by = parameters[\"by\"]\n",
    "    \n",
    "    \n",
    "    a_next = np.tanh(np.dot(Waa, a_prev)+np.dot(Wax,xt)+ba)\n",
    "    \n",
    "    yt_pred = softmax(np.dot(Wya,a_next)+by)\n",
    "    \n",
    "    cache = (a_next, a_prev, xt, parameters)\n",
    "    \n",
    "    return a_next, yt_pred, cache"
   ]
  },
  {
   "cell_type": "code",
   "execution_count": 35,
   "metadata": {},
   "outputs": [],
   "source": [
    "def rnn_forprop(x,a0,parameters):\n",
    "    \n",
    "    caches=[]\n",
    "    \n",
    "    n_x, m, T_x = x.shape\n",
    "    n_y, n_a = parameters[\"Wya\"].shape\n",
    "    \n",
    "    a = np.zeros((n_a, m, T_x))\n",
    "    y_pred = np.zeros((n_y, m, T_x))\n",
    "    \n",
    "    a_next = a0\n",
    "    \n",
    "    for t in range(T_x):\n",
    "        \n",
    "        a_next, yt_pred, cache = rnn_cell_forward(x[:,:,t], a_next, parameters)\n",
    "        a[:,:,t] = a_next\n",
    "        \n",
    "        y_pred[:,:,t]=yt_pred\n",
    "        \n",
    "        caches.append(cache)\n",
    "        \n",
    "    caches = (caches,x)\n",
    "    \n",
    "    return a, y_pred, caches"
   ]
  },
  {
   "cell_type": "code",
   "execution_count": 36,
   "metadata": {},
   "outputs": [],
   "source": [
    "def rnn_cell_backward(da_next, cache):\n",
    "    \n",
    "    (a_next, a_prev, xt, parameters) = cache\n",
    "    \n",
    "    Wax = parameters[\"Wax\"]\n",
    "    Waa = parameters[\"Waa\"]\n",
    "    Wya = parameters[\"Wya\"]\n",
    "    ba = parameters[\"ba\"]\n",
    "    by = parameters[\"by\"]\n",
    "    \n",
    "    dtanh = (1-np.square(a_next))*da_next\n",
    "    \n",
    "    dxt = np.dot(Wax.T, dtanh)\n",
    "    dWax = np.dot(dtanh,xt.T)\n",
    "    \n",
    "    da_prev = np.dot(Waa.T,dtanh)\n",
    "    dWaa = np.dot(dtanh, a_prev.T)\n",
    "    \n",
    "    dba = np.sum(dtanh, 1, keepdims=True)\n",
    "    \n",
    "    gradients = {\"dxt\":dxt,\"da_prev\":da_prev,\"dWax\":dWax,\"dWaa\":dWaa,\"dba\":dba}\n",
    "    \n",
    "    return gradients\n"
   ]
  },
  {
   "cell_type": "code",
   "execution_count": 39,
   "metadata": {},
   "outputs": [],
   "source": [
    "def rnn_backprop(da, caches):\n",
    "    \n",
    "    (caches, x) = caches\n",
    "    (a1, a0, x1, parameters) = caches[0]\n",
    "    \n",
    "    n_a, m, T_x = da.shape\n",
    "    n_x, m = x1.shape\n",
    "    \n",
    "    dx = np.zeros((n_x,m,T_x))\n",
    "    dWax = np.zeros((n_a,n_x))\n",
    "    dWaa = np.zeros((n_a,n_a))\n",
    "    dba = np.zeros((n_a,1))\n",
    "    da0 = np.zeros((n_a, m))\n",
    "    da_prev_t = np.zeros((n_a,m))\n",
    "    \n",
    "    for t in reversed(range(T_x)):\n",
    "        \n",
    "        gradients = rnn_cell_backward(da[:,:,t]+da_prev_t,caches[t])\n",
    "        \n",
    "        dxt,da_prev_t, dWaxt, dWaat, dbat = gradients[\"dxt\"],gradients[\"da_prev\"],gradients[\"dWax\"],gradients[\"dWaa\"],gradients[\"dba\"]\n",
    "        \n",
    "        dx[:,:,t] = dxt\n",
    "        dWax += dWaxt\n",
    "        dWaa += dWaat\n",
    "        dba += dbat\n",
    "        \n",
    "    da0 = da_prev_t\n",
    "        \n",
    "    gradients = {\"dx\":dx,\"da0\":da0,\"dWax\":dWax,\"dWaa\":dWaa,\"dba\":dba}\n",
    "    \n",
    "    return gradients"
   ]
  },
  {
   "cell_type": "code",
   "execution_count": null,
   "metadata": {},
   "outputs": [],
   "source": []
  },
  {
   "cell_type": "code",
   "execution_count": null,
   "metadata": {},
   "outputs": [],
   "source": []
  }
 ],
 "metadata": {
  "kernelspec": {
   "display_name": "Python 3",
   "language": "python",
   "name": "python3"
  },
  "language_info": {
   "codemirror_mode": {
    "name": "ipython",
    "version": 3
   },
   "file_extension": ".py",
   "mimetype": "text/x-python",
   "name": "python",
   "nbconvert_exporter": "python",
   "pygments_lexer": "ipython3",
   "version": "3.8.5"
  }
 },
 "nbformat": 4,
 "nbformat_minor": 4
}
